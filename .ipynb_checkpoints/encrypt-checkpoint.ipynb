{
 "cells": [
  {
   "cell_type": "code",
   "execution_count": 3,
   "metadata": {},
   "outputs": [],
   "source": [
    "import base64"
   ]
  },
  {
   "cell_type": "code",
   "execution_count": 4,
   "metadata": {},
   "outputs": [],
   "source": [
    "def read_binary(path):\n",
    "    files = open(path, 'rb')\n",
    "    data = files.read()\n",
    "    files.close()\n",
    "    return data\n",
    "\n",
    "def read_b64(path):\n",
    "    files = open(path, 'r')\n",
    "    data = files.read()\n",
    "    files.close()\n",
    "    return data"
   ]
  },
  {
   "cell_type": "code",
   "execution_count": 5,
   "metadata": {},
   "outputs": [],
   "source": [
    "def write_b64(path, data):\n",
    "    f = open(path, 'wb')\n",
    "    f.write(data)\n",
    "    f.close()\n",
    "    return 0\n",
    "\n",
    "def write_(path, data):\n",
    "    f = open(path, 'w')\n",
    "    f.write(data)\n",
    "    f.close()\n",
    "    return 0"
   ]
  },
  {
   "cell_type": "code",
   "execution_count": 6,
   "metadata": {},
   "outputs": [],
   "source": [
    "def b64_encoding(data):\n",
    "    data_base64 = base64.b64encode(data)\n",
    "    data_base64_str = data_base64.decode('ascii')\n",
    "    return data_base64_str\n",
    "\n",
    "def b64_decoding(data):\n",
    "    data_bytes = base64.b64decode(data)\n",
    "    return data_bytes"
   ]
  },
  {
   "cell_type": "code",
   "execution_count": 11,
   "metadata": {},
   "outputs": [],
   "source": [
    "Unique_query = \"16175246265711459136991769238117\""
   ]
  },
  {
   "cell_type": "markdown",
   "metadata": {},
   "source": [
    "bytes 상태에서 9만 \\t로 바뀜 // 나머지는 4자리"
   ]
  },
  {
   "cell_type": "code",
   "execution_count": 139,
   "metadata": {},
   "outputs": [],
   "source": [
    "b_query = bytes([1,6,1,7,5,2,4,6,2,6,5,7,1,1,4,5,8,1,3,6,8,8,1,7,6,8,2,3,8,1,1,7])"
   ]
  },
  {
   "cell_type": "code",
   "execution_count": 140,
   "metadata": {},
   "outputs": [
    {
     "name": "stdout",
     "output_type": "stream",
     "text": [
      "b'\\x01\\x06\\x01\\x07\\x05\\x02\\x04\\x06\\x02\\x06\\x05\\x07\\x01\\x01\\x04\\x05\\x08\\x01\\x03\\x06\\x08\\x08\\x01\\x07\\x06\\x08\\x02\\x03\\x08\\x01\\x01\\x07'\n"
     ]
    }
   ],
   "source": [
    "b_query=str(b_query)\n",
    "print(b_query)"
   ]
  },
  {
   "cell_type": "code",
   "execution_count": 141,
   "metadata": {},
   "outputs": [],
   "source": [
    "b_query = b_query[2:-1]"
   ]
  },
  {
   "cell_type": "code",
   "execution_count": 142,
   "metadata": {},
   "outputs": [
    {
     "data": {
      "text/plain": [
       "128"
      ]
     },
     "execution_count": 142,
     "metadata": {},
     "output_type": "execute_result"
    }
   ],
   "source": [
    "len(b_query)"
   ]
  },
  {
   "cell_type": "code",
   "execution_count": 148,
   "metadata": {},
   "outputs": [],
   "source": [
    "global b\n",
    "b = 0\n",
    "def Steganography(data):\n",
    "    for i in range(32):\n",
    "        cnt = 658 + 16*4*i\n",
    "        global b\n",
    "        data=data[:cnt] + b_query[b:b+4] + data[cnt+4:]\n",
    "        b+=4\n",
    "    data = data.encode()\n",
    "    return data\n",
    "        #data[i] = Unique_query[i]"
   ]
  },
  {
   "cell_type": "markdown",
   "metadata": {},
   "source": [
    "## 실행코드"
   ]
  },
  {
   "cell_type": "code",
   "execution_count": 40,
   "metadata": {
    "scrolled": true
   },
   "outputs": [
    {
     "name": "stdout",
     "output_type": "stream",
     "text": [
      "write file name: c.h5\n",
      "작업할 번호 선택\n",
      "1.암호화\t2.복호화\n",
      "1\n"
     ]
    },
    {
     "ename": "TypeError",
     "evalue": "can't concat str to bytes",
     "output_type": "error",
     "traceback": [
      "\u001b[1;31m---------------------------------------------------------------------------\u001b[0m",
      "\u001b[1;31mTypeError\u001b[0m                                 Traceback (most recent call last)",
      "\u001b[1;32m<ipython-input-40-a50d2416a71d>\u001b[0m in \u001b[0;36m<module>\u001b[1;34m\u001b[0m\n\u001b[0;32m      4\u001b[0m \u001b[1;32mif\u001b[0m \u001b[0mcnt\u001b[0m \u001b[1;33m==\u001b[0m \u001b[1;36m1\u001b[0m\u001b[1;33m:\u001b[0m\u001b[1;33m\u001b[0m\u001b[1;33m\u001b[0m\u001b[0m\n\u001b[0;32m      5\u001b[0m     \u001b[0mdata\u001b[0m \u001b[1;33m=\u001b[0m \u001b[0mread_binary\u001b[0m\u001b[1;33m(\u001b[0m\u001b[0mpath\u001b[0m\u001b[1;33m)\u001b[0m\u001b[1;33m\u001b[0m\u001b[1;33m\u001b[0m\u001b[0m\n\u001b[1;32m----> 6\u001b[1;33m     \u001b[0mdata\u001b[0m \u001b[1;33m=\u001b[0m \u001b[0mSteganography\u001b[0m\u001b[1;33m(\u001b[0m\u001b[0mdata\u001b[0m\u001b[1;33m)\u001b[0m\u001b[1;33m\u001b[0m\u001b[1;33m\u001b[0m\u001b[0m\n\u001b[0m\u001b[0;32m      7\u001b[0m     \u001b[0mdata_base64_str\u001b[0m \u001b[1;33m=\u001b[0m \u001b[0mb64_encoding\u001b[0m\u001b[1;33m(\u001b[0m\u001b[0mdata\u001b[0m\u001b[1;33m)\u001b[0m\u001b[1;33m\u001b[0m\u001b[1;33m\u001b[0m\u001b[0m\n\u001b[0;32m      8\u001b[0m     \u001b[0mprint\u001b[0m\u001b[1;33m(\u001b[0m\u001b[0mdata_base64_str\u001b[0m\u001b[1;33m)\u001b[0m\u001b[1;33m\u001b[0m\u001b[1;33m\u001b[0m\u001b[0m\n",
      "\u001b[1;32m<ipython-input-39-6102d37bfa3a>\u001b[0m in \u001b[0;36mSteganography\u001b[1;34m(data)\u001b[0m\n\u001b[0;32m      3\u001b[0m         \u001b[0mcnt\u001b[0m \u001b[1;33m=\u001b[0m \u001b[1;36m159\u001b[0m \u001b[1;33m+\u001b[0m \u001b[1;36m16\u001b[0m\u001b[1;33m*\u001b[0m\u001b[0mi\u001b[0m\u001b[1;33m\u001b[0m\u001b[1;33m\u001b[0m\u001b[0m\n\u001b[0;32m      4\u001b[0m         \u001b[1;31m#data = str(data)\u001b[0m\u001b[1;33m\u001b[0m\u001b[1;33m\u001b[0m\u001b[1;33m\u001b[0m\u001b[0m\n\u001b[1;32m----> 5\u001b[1;33m         \u001b[0mdata\u001b[0m\u001b[1;33m=\u001b[0m\u001b[0mdata\u001b[0m\u001b[1;33m[\u001b[0m\u001b[1;33m:\u001b[0m\u001b[0mcnt\u001b[0m\u001b[1;33m]\u001b[0m \u001b[1;33m+\u001b[0m \u001b[0mUnique_query\u001b[0m\u001b[1;33m[\u001b[0m\u001b[0mi\u001b[0m\u001b[1;33m-\u001b[0m\u001b[1;36m1\u001b[0m\u001b[1;33m]\u001b[0m \u001b[1;33m+\u001b[0m \u001b[0mdata\u001b[0m\u001b[1;33m[\u001b[0m\u001b[0mcnt\u001b[0m\u001b[1;33m+\u001b[0m\u001b[1;36m1\u001b[0m\u001b[1;33m:\u001b[0m\u001b[1;33m-\u001b[0m\u001b[1;36m1\u001b[0m\u001b[1;33m]\u001b[0m\u001b[1;33m\u001b[0m\u001b[1;33m\u001b[0m\u001b[0m\n\u001b[0m\u001b[0;32m      6\u001b[0m         \u001b[1;31m#data = data.encode()\u001b[0m\u001b[1;33m\u001b[0m\u001b[1;33m\u001b[0m\u001b[1;33m\u001b[0m\u001b[0m\n\u001b[0;32m      7\u001b[0m         \u001b[1;32mreturn\u001b[0m \u001b[0mdata\u001b[0m\u001b[1;33m\u001b[0m\u001b[1;33m\u001b[0m\u001b[0m\n",
      "\u001b[1;31mTypeError\u001b[0m: can't concat str to bytes"
     ]
    }
   ],
   "source": [
    "path = str(input(\"write file name: \"))\n",
    "cnt = -1\n",
    "cnt = int(input(\"작업할 번호 선택\\n1.암호화\\t2.복호화\\n\"))\n",
    "if cnt == 1:\n",
    "    data = read_binary(path)\n",
    "    #data = Steganography(data)\n",
    "    data_base64_str = b64_encoding(data)\n",
    "    print(data_base64_str)\n",
    "    err_cnt = write_(path, data_base64_str)\n",
    "    if err_cnt != 0:\n",
    "        print('파일을 저장할 수 없습니다.')\n",
    "    else:\n",
    "        print('암호화가 완료되었습니다.')\n",
    "        \n",
    "elif cnt == 2:\n",
    "    data = read_b64(path)\n",
    "    data_bytes = b64_decoding(data)\n",
    "    err_cnt = write_b64(path, data_bytes)\n",
    "    if err_cnt != 0:\n",
    "        print('파일을 저장할 수 없습니다.')\n",
    "    else:\n",
    "        print('복호화가 완료되었습니다.')\n",
    "        \n",
    "else:\n",
    "    print('올바른 번호가 없습니다. 작업을 종료합니다.')"
   ]
  },
  {
   "cell_type": "code",
   "execution_count": 149,
   "metadata": {},
   "outputs": [
    {
     "data": {
      "text/plain": [
       "19843496"
      ]
     },
     "execution_count": 149,
     "metadata": {},
     "output_type": "execute_result"
    }
   ],
   "source": [
    "data = read_binary('d.h5')\n",
    "len(data)"
   ]
  },
  {
   "cell_type": "code",
   "execution_count": 150,
   "metadata": {},
   "outputs": [
    {
     "name": "stdout",
     "output_type": "stream",
     "text": [
      "59521433\n"
     ]
    }
   ],
   "source": [
    "data = str(data)\n",
    "data = data[2:-1]\n",
    "print(len(data))\n",
    "b = 0\n",
    "data2 = Steganography(data)"
   ]
  },
  {
   "cell_type": "code",
   "execution_count": 151,
   "metadata": {},
   "outputs": [
    {
     "data": {
      "text/plain": [
       "59521433"
      ]
     },
     "execution_count": 151,
     "metadata": {},
     "output_type": "execute_result"
    }
   ],
   "source": [
    "len(data2)"
   ]
  },
  {
   "cell_type": "code",
   "execution_count": 147,
   "metadata": {},
   "outputs": [
    {
     "data": {
      "text/plain": [
       "0"
      ]
     },
     "execution_count": 147,
     "metadata": {},
     "output_type": "execute_result"
    }
   ],
   "source": [
    "write_('test.h5', data2)"
   ]
  },
  {
   "cell_type": "code",
   "execution_count": null,
   "metadata": {},
   "outputs": [],
   "source": []
  }
 ],
 "metadata": {
  "kernelspec": {
   "display_name": "Python 3",
   "language": "python",
   "name": "python3"
  },
  "language_info": {
   "codemirror_mode": {
    "name": "ipython",
    "version": 3
   },
   "file_extension": ".py",
   "mimetype": "text/x-python",
   "name": "python",
   "nbconvert_exporter": "python",
   "pygments_lexer": "ipython3",
   "version": "3.8.5"
  }
 },
 "nbformat": 4,
 "nbformat_minor": 4
}
