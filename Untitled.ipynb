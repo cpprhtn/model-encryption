{
 "cells": [
  {
   "cell_type": "code",
   "execution_count": 36,
   "metadata": {},
   "outputs": [],
   "source": [
    "from cryptography.fernet import Fernet # symmetric encryption\n",
    "\n",
    "import base64\n",
    "import hashlib\n",
    "import os\n",
    "import sys\n",
    "import string\n",
    "import random"
   ]
  },
  {
   "cell_type": "code",
   "execution_count": 30,
   "metadata": {},
   "outputs": [],
   "source": [
    "class SimpleEnDecrypt:\n",
    "    def __init__(self, key=None):\n",
    "        if key is None: # 키가 없다면\n",
    "            key = Fernet.generate_key() # 키를 생성한다\n",
    "        self.key = key\n",
    "        self.f   = Fernet(self.key)\n",
    "    \n",
    "    def encrypt(self, data, is_out_string=True):\n",
    "        if isinstance(data, bytes):\n",
    "            ou = self.f.encrypt(data) # 바이트형태이면 바로 암호화\n",
    "        else:\n",
    "            ou = self.f.encrypt(data.encode('utf-8')) # 인코딩 후 암호화\n",
    "        if is_out_string is True:\n",
    "            return ou.decode('utf-8') # 출력이 문자열이면 디코딩 후 반환\n",
    "        else:\n",
    "            return ou\n",
    "        \n",
    "    def decrypt(self, data, is_out_string=True):\n",
    "        if isinstance(data, bytes):\n",
    "            ou = self.f.decrypt(data) # 바이트형태이면 바로 복호화\n",
    "        else:\n",
    "            ou = self.f.decrypt(data.encode('utf-8')) # 인코딩 후 복호화\n",
    "        if is_out_string is True:\n",
    "            return ou.decode('utf-8') # 출력이 문자열이면 디코딩 후 반환\n",
    "        else:\n",
    "            return ou"
   ]
  },
  {
   "cell_type": "code",
   "execution_count": 3,
   "metadata": {},
   "outputs": [],
   "source": [
    "simpleEnDecrypt = SimpleEnDecrypt()"
   ]
  },
  {
   "cell_type": "code",
   "execution_count": null,
   "metadata": {},
   "outputs": [],
   "source": [
    "encrypt_text = simpleEnDecrypt.encrypt(plain_text)\n",
    "print(encrypt_text)"
   ]
  },
  {
   "cell_type": "code",
   "execution_count": 16,
   "metadata": {},
   "outputs": [],
   "source": [
    "import h5py\n",
    "import numpy as np\n",
    "f = h5py.File('test.h5', 'r')\n",
    "keys = f.keys()\n",
    "dset = ''\n",
    "fIndex = -1\n",
    "fName = ''\n",
    "\n",
    " \n",
    "\n",
    "arrLen = len(keys)\n",
    "\n",
    "#key로 이미지 데이터 불러옴. 필요한 logic은 안에 추가하면 됨\n",
    "\n",
    "#우선 첫번째이미지만 확인\n",
    "for i, fName in enumerate(keys):\n",
    "\n",
    "    dset = f[fName] \n",
    "\n",
    "    break\n",
    "\n"
   ]
  },
  {
   "cell_type": "code",
   "execution_count": 20,
   "metadata": {},
   "outputs": [],
   "source": [
    "data = np.array(dset)"
   ]
  },
  {
   "cell_type": "code",
   "execution_count": 21,
   "metadata": {},
   "outputs": [
    {
     "data": {
      "text/plain": [
       "array(['conv2d_6', 'conv2d_7', 'conv2d_8', 'conv2d_9', 'dense_4',\n",
       "       'dense_5', 'dropout_2', 'dropout_3', 'dropout_4', 'dropout_5',\n",
       "       'flatten_2', 'max_pooling2d_6', 'max_pooling2d_7',\n",
       "       'max_pooling2d_8', 'max_pooling2d_9'], dtype='<U15')"
      ]
     },
     "execution_count": 21,
     "metadata": {},
     "output_type": "execute_result"
    }
   ],
   "source": [
    "data"
   ]
  },
  {
   "cell_type": "code",
   "execution_count": 23,
   "metadata": {},
   "outputs": [
    {
     "ename": "NameError",
     "evalue": "name 'base64' is not defined",
     "output_type": "error",
     "traceback": [
      "\u001b[1;31m---------------------------------------------------------------------------\u001b[0m",
      "\u001b[1;31mNameError\u001b[0m                                 Traceback (most recent call last)",
      "\u001b[1;32m<ipython-input-23-c648a97a0fec>\u001b[0m in \u001b[0;36m<module>\u001b[1;34m\u001b[0m\n\u001b[1;32m----> 1\u001b[1;33m \u001b[0mpng_as_text\u001b[0m \u001b[1;33m=\u001b[0m \u001b[0mbase64\u001b[0m\u001b[1;33m.\u001b[0m\u001b[0mb64encode\u001b[0m\u001b[1;33m(\u001b[0m\u001b[0mbuffer\u001b[0m\u001b[1;33m)\u001b[0m\u001b[1;33m\u001b[0m\u001b[1;33m\u001b[0m\u001b[0m\n\u001b[0m",
      "\u001b[1;31mNameError\u001b[0m: name 'base64' is not defined"
     ]
    }
   ],
   "source": [
    "png_as_text = base64.b64encode(buffer)"
   ]
  },
  {
   "cell_type": "code",
   "execution_count": 24,
   "metadata": {},
   "outputs": [
    {
     "data": {
      "text/plain": [
       "['model_weights', 'optimizer_weights']"
      ]
     },
     "execution_count": 24,
     "metadata": {},
     "output_type": "execute_result"
    }
   ],
   "source": [
    "f = h5py.File('test.h5','r')\n",
    "f.name\n",
    "list(f.keys())\n"
   ]
  },
  {
   "cell_type": "code",
   "execution_count": 26,
   "metadata": {},
   "outputs": [],
   "source": [
    "test_group = f['model_weights']"
   ]
  },
  {
   "cell_type": "code",
   "execution_count": 27,
   "metadata": {},
   "outputs": [],
   "source": [
    "ref = test_group.ref"
   ]
  },
  {
   "cell_type": "code",
   "execution_count": 28,
   "metadata": {},
   "outputs": [
    {
     "data": {
      "text/plain": [
       "<HDF5 object reference>"
      ]
     },
     "execution_count": 28,
     "metadata": {},
     "output_type": "execute_result"
    }
   ],
   "source": [
    "ref"
   ]
  },
  {
   "cell_type": "code",
   "execution_count": 31,
   "metadata": {},
   "outputs": [
    {
     "ename": "TypeError",
     "evalue": "encrypt() missing 1 required positional argument: 'data'",
     "output_type": "error",
     "traceback": [
      "\u001b[1;31m---------------------------------------------------------------------------\u001b[0m",
      "\u001b[1;31mTypeError\u001b[0m                                 Traceback (most recent call last)",
      "\u001b[1;32m<ipython-input-31-8bf7fe589d0c>\u001b[0m in \u001b[0;36m<module>\u001b[1;34m\u001b[0m\n\u001b[1;32m----> 1\u001b[1;33m \u001b[0mSimpleEnDecrypt\u001b[0m\u001b[1;33m.\u001b[0m\u001b[0mencrypt\u001b[0m\u001b[1;33m(\u001b[0m\u001b[0mf\u001b[0m\u001b[1;33m)\u001b[0m\u001b[1;33m\u001b[0m\u001b[1;33m\u001b[0m\u001b[0m\n\u001b[0m",
      "\u001b[1;31mTypeError\u001b[0m: encrypt() missing 1 required positional argument: 'data'"
     ]
    }
   ],
   "source": [
    "SimpleEnDecrypt.encrypt(f)"
   ]
  },
  {
   "cell_type": "code",
   "execution_count": 32,
   "metadata": {},
   "outputs": [],
   "source": [
    "class AESCipher(object):\n",
    "\n",
    "    def __init__(self, _key):\n",
    "        self.bs = 16\n",
    "        print('Using block size = %s' % self.bs)\n",
    "        self.key = hashlib.sha256(_key.encode()).digest()\n",
    "        print('Hash of key=\"%s\" is \"%s\"' % (_key, self.key))\n",
    "\n",
    "    def encrypt(self, raw):\n",
    "        raw = self._pad(raw)\n",
    "        iv = Random.new().read(AES.block_size)\n",
    "        print('Iv: \"%s\"' % iv)\n",
    "        cipher = AES.new(self.key, AES.MODE_CBC, iv)\n",
    "        return iv + cipher.encrypt(raw)\n",
    "\n",
    "    def decrypt(self, enc):\n",
    "        iv = enc[:AES.block_size]\n",
    "        cipher = AES.new(self.key, AES.MODE_CBC, iv)\n",
    "        return self._unpad(cipher.decrypt(enc[AES.block_size:]))  # .decode('utf-8')\n",
    "\n",
    "    def _pad(self, s):\n",
    "        return s + str.encode((self.bs - len(s) % self.bs) * chr(self.bs - len(s) % self.bs))\n",
    "\n",
    "    @staticmethod\n",
    "    def _unpad(s):\n",
    "        return s[:-ord(s[len(s) - 1:])]\n"
   ]
  },
  {
   "cell_type": "code",
   "execution_count": 38,
   "metadata": {},
   "outputs": [],
   "source": [
    "def load_graph(path):\n",
    "    if not tf.gfile.Exists(path):\n",
    "        raise Exception('File doesn\\'t exist at path: %s' % path)\n",
    "    with tf.gfile.GFile(path, 'rb') as f:\n",
    "        graph_def = tf.GraphDef()\n",
    "        graph_def.ParseFromString(f.read())\n",
    "        f.close()\n",
    "        tf.import_graph_def(graph_def, name=None)\n",
    "        return graph_def\n",
    "\n",
    "\n",
    "def generate_output_path(input_path, suffix):\n",
    "    filename, file_extension = os.path.splitext(input_path)\n",
    "    return filename + suffix + file_extension\n",
    "\n",
    "\n",
    "def random_string(size=30):\n",
    "    return ''.join(random.SystemRandom().choice(string.ascii_uppercase + string.digits) for _ in range(size))\n",
    "\n",
    "\n",
    "def read_arg(index, default=None, err_msg=None):\n",
    "    def print_error():\n",
    "        if err_msg is not None:\n",
    "            raise Exception(err_msg)\n",
    "        else:\n",
    "            raise Exception('Not found arg with index %s' % index)\n",
    "\n",
    "    if len(sys.argv) <= index:\n",
    "        if default is not None:\n",
    "            return default\n",
    "        print_error()\n",
    "    return sys.argv[index]"
   ]
  },
  {
   "cell_type": "code",
   "execution_count": 39,
   "metadata": {},
   "outputs": [
    {
     "name": "stdout",
     "output_type": "stream",
     "text": [
      "\n",
      "USAGE: python encrypt_model.py <INPUT_PB_MODEL> <OUTPUT_PB_MODEL> <KEY>\n",
      "\n"
     ]
    },
    {
     "ename": "NameError",
     "evalue": "name 'tf' is not defined",
     "output_type": "error",
     "traceback": [
      "\u001b[1;31m---------------------------------------------------------------------------\u001b[0m",
      "\u001b[1;31mNameError\u001b[0m                                 Traceback (most recent call last)",
      "\u001b[1;32m<ipython-input-39-37cb5a223ccb>\u001b[0m in \u001b[0;36m<module>\u001b[1;34m\u001b[0m\n\u001b[0;32m     25\u001b[0m \u001b[1;33m\u001b[0m\u001b[0m\n\u001b[0;32m     26\u001b[0m \u001b[1;32mif\u001b[0m \u001b[0m__name__\u001b[0m \u001b[1;33m==\u001b[0m \u001b[1;34m\"__main__\"\u001b[0m\u001b[1;33m:\u001b[0m\u001b[1;33m\u001b[0m\u001b[1;33m\u001b[0m\u001b[0m\n\u001b[1;32m---> 27\u001b[1;33m     \u001b[0mmain\u001b[0m\u001b[1;33m(\u001b[0m\u001b[1;33m)\u001b[0m\u001b[1;33m\u001b[0m\u001b[1;33m\u001b[0m\u001b[0m\n\u001b[0m",
      "\u001b[1;32m<ipython-input-39-37cb5a223ccb>\u001b[0m in \u001b[0;36mmain\u001b[1;34m()\u001b[0m\n\u001b[0;32m     10\u001b[0m     \u001b[0mKEY\u001b[0m \u001b[1;33m=\u001b[0m \u001b[0mread_arg\u001b[0m\u001b[1;33m(\u001b[0m\u001b[1;36m3\u001b[0m\u001b[1;33m,\u001b[0m \u001b[0mdefault\u001b[0m\u001b[1;33m=\u001b[0m\u001b[0mrandom_string\u001b[0m\u001b[1;33m(\u001b[0m\u001b[1;33m)\u001b[0m\u001b[1;33m)\u001b[0m\u001b[1;33m\u001b[0m\u001b[1;33m\u001b[0m\u001b[0m\n\u001b[0;32m     11\u001b[0m \u001b[1;33m\u001b[0m\u001b[0m\n\u001b[1;32m---> 12\u001b[1;33m     \u001b[0mgraph_def\u001b[0m \u001b[1;33m=\u001b[0m \u001b[0mload_graph\u001b[0m\u001b[1;33m(\u001b[0m\u001b[0minput_path\u001b[0m\u001b[1;33m)\u001b[0m\u001b[1;33m\u001b[0m\u001b[1;33m\u001b[0m\u001b[0m\n\u001b[0m\u001b[0;32m     13\u001b[0m \u001b[1;33m\u001b[0m\u001b[0m\n\u001b[0;32m     14\u001b[0m     \u001b[0mcipher\u001b[0m \u001b[1;33m=\u001b[0m \u001b[0mAESCipher\u001b[0m\u001b[1;33m(\u001b[0m\u001b[0mKEY\u001b[0m\u001b[1;33m)\u001b[0m\u001b[1;33m\u001b[0m\u001b[1;33m\u001b[0m\u001b[0m\n",
      "\u001b[1;32m<ipython-input-38-dc0c6e46be17>\u001b[0m in \u001b[0;36mload_graph\u001b[1;34m(path)\u001b[0m\n\u001b[0;32m      1\u001b[0m \u001b[1;32mdef\u001b[0m \u001b[0mload_graph\u001b[0m\u001b[1;33m(\u001b[0m\u001b[0mpath\u001b[0m\u001b[1;33m)\u001b[0m\u001b[1;33m:\u001b[0m\u001b[1;33m\u001b[0m\u001b[1;33m\u001b[0m\u001b[0m\n\u001b[1;32m----> 2\u001b[1;33m     \u001b[1;32mif\u001b[0m \u001b[1;32mnot\u001b[0m \u001b[0mtf\u001b[0m\u001b[1;33m.\u001b[0m\u001b[0mgfile\u001b[0m\u001b[1;33m.\u001b[0m\u001b[0mExists\u001b[0m\u001b[1;33m(\u001b[0m\u001b[0mpath\u001b[0m\u001b[1;33m)\u001b[0m\u001b[1;33m:\u001b[0m\u001b[1;33m\u001b[0m\u001b[1;33m\u001b[0m\u001b[0m\n\u001b[0m\u001b[0;32m      3\u001b[0m         \u001b[1;32mraise\u001b[0m \u001b[0mException\u001b[0m\u001b[1;33m(\u001b[0m\u001b[1;34m'File doesn\\'t exist at path: %s'\u001b[0m \u001b[1;33m%\u001b[0m \u001b[0mpath\u001b[0m\u001b[1;33m)\u001b[0m\u001b[1;33m\u001b[0m\u001b[1;33m\u001b[0m\u001b[0m\n\u001b[0;32m      4\u001b[0m     \u001b[1;32mwith\u001b[0m \u001b[0mtf\u001b[0m\u001b[1;33m.\u001b[0m\u001b[0mgfile\u001b[0m\u001b[1;33m.\u001b[0m\u001b[0mGFile\u001b[0m\u001b[1;33m(\u001b[0m\u001b[0mpath\u001b[0m\u001b[1;33m,\u001b[0m \u001b[1;34m'rb'\u001b[0m\u001b[1;33m)\u001b[0m \u001b[1;32mas\u001b[0m \u001b[0mf\u001b[0m\u001b[1;33m:\u001b[0m\u001b[1;33m\u001b[0m\u001b[1;33m\u001b[0m\u001b[0m\n\u001b[0;32m      5\u001b[0m         \u001b[0mgraph_def\u001b[0m \u001b[1;33m=\u001b[0m \u001b[0mtf\u001b[0m\u001b[1;33m.\u001b[0m\u001b[0mGraphDef\u001b[0m\u001b[1;33m(\u001b[0m\u001b[1;33m)\u001b[0m\u001b[1;33m\u001b[0m\u001b[1;33m\u001b[0m\u001b[0m\n",
      "\u001b[1;31mNameError\u001b[0m: name 'tf' is not defined"
     ]
    }
   ],
   "source": [
    "def main():\n",
    "    usage = 'python encrypt_model.py <INPUT_PB_MODEL> <OUTPUT_PB_MODEL> <KEY>'\n",
    "    print('\\nUSAGE: %s\\n' % usage)\n",
    "\n",
    "    # Args:\n",
    "\n",
    "    input_path = read_arg(1, default='demo/models/saved_model.pb')\n",
    "    default_out = generate_output_path(input_path, '-encrypted')\n",
    "    output_path = read_arg(2, default=default_out)\n",
    "    KEY = read_arg(3, default=random_string())\n",
    "\n",
    "    graph_def = load_graph(input_path)\n",
    "\n",
    "    cipher = AESCipher(KEY)\n",
    "\n",
    "    nodes_binary_str = graph_def.SerializeToString()\n",
    "\n",
    "    nodes_binary_str = cipher.encrypt(nodes_binary_str)\n",
    "\n",
    "    with tf.gfile.GFile(output_path, 'wb') as f:\n",
    "        f.write(nodes_binary_str)\n",
    "        f.close()\n",
    "    print('Saved with key=\"%s\" to %s' % (KEY, output_path))\n",
    "\n",
    "\n",
    "if __name__ == \"__main__\":\n",
    "    main()"
   ]
  },
  {
   "cell_type": "code",
   "execution_count": null,
   "metadata": {},
   "outputs": [],
   "source": []
  }
 ],
 "metadata": {
  "kernelspec": {
   "display_name": "Python 3",
   "language": "python",
   "name": "python3"
  },
  "language_info": {
   "codemirror_mode": {
    "name": "ipython",
    "version": 3
   },
   "file_extension": ".py",
   "mimetype": "text/x-python",
   "name": "python",
   "nbconvert_exporter": "python",
   "pygments_lexer": "ipython3",
   "version": "3.8.5"
  }
 },
 "nbformat": 4,
 "nbformat_minor": 4
}
