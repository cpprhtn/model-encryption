{
 "cells": [
  {
   "cell_type": "code",
   "execution_count": 1,
   "metadata": {},
   "outputs": [],
   "source": [
    "import base64"
   ]
  },
  {
   "cell_type": "code",
   "execution_count": 2,
   "metadata": {},
   "outputs": [],
   "source": [
    "def read_binary(path):\n",
    "    files = open(path, 'rb')\n",
    "    data = files.read()\n",
    "    files.close()\n",
    "    return data\n",
    "\n",
    "def read_b64(path):\n",
    "    files = open(path, 'r')\n",
    "    data = files.read()\n",
    "    files.close()\n",
    "    return data"
   ]
  },
  {
   "cell_type": "code",
   "execution_count": 3,
   "metadata": {},
   "outputs": [],
   "source": [
    "def write_b64(path, data):\n",
    "    f = open(path, 'wb')\n",
    "    f.write(data)\n",
    "    f.close()\n",
    "    return 0\n",
    "\n",
    "def write_(path, data):\n",
    "    f = open(path, 'w')\n",
    "    f.write(data)\n",
    "    f.close()\n",
    "    return 0"
   ]
  },
  {
   "cell_type": "code",
   "execution_count": 4,
   "metadata": {},
   "outputs": [],
   "source": [
    "def b64_encoding(data):\n",
    "    data_base64 = base64.b64encode(data)\n",
    "    data_base64_str = data_base64.decode('ascii')\n",
    "    return data_base64_str\n",
    "\n",
    "def b64_decoding(data):\n",
    "    data_bytes = base64.b64decode(data)\n",
    "    return data_bytes"
   ]
  },
  {
   "cell_type": "markdown",
   "metadata": {},
   "source": [
    "## 실행코드"
   ]
  },
  {
   "cell_type": "code",
   "execution_count": 11,
   "metadata": {},
   "outputs": [
    {
     "name": "stdout",
     "output_type": "stream",
     "text": [
      "write file name: test2.h5\n",
      "작업할 번호 선택\n",
      "1.암호화\t2.복호화\n",
      "2\n",
      "복호화가 완료되었습니다.\n"
     ]
    }
   ],
   "source": [
    "path = str(input(\"write file name: \"))\n",
    "cnt = -1\n",
    "cnt = int(input(\"작업할 번호 선택\\n1.암호화\\t2.복호화\\n\"))\n",
    "if cnt == 1:\n",
    "    data = read_binary(path)\n",
    "    data_base64_str = b64_encoding(data)\n",
    "    err_cnt = write_(path, data_base64_str)\n",
    "    if err_cnt != 0:\n",
    "        print('파일을 저장할 수 없습니다.')\n",
    "    else:\n",
    "        print('암호화가 완료되었습니다.')\n",
    "        \n",
    "elif cnt == 2:\n",
    "    data = read_b64(path)\n",
    "    data_bytes = b64_decoding(data)\n",
    "    err_cnt = write_b64(path, data_bytes)\n",
    "    if err_cnt != 0:\n",
    "        print('파일을 저장할 수 없습니다.')\n",
    "    else:\n",
    "        print('복호화가 완료되었습니다.')\n",
    "        \n",
    "else:\n",
    "    print('올바른 번호가 없습니다. 작업을 종료합니다.')"
   ]
  },
  {
   "cell_type": "code",
   "execution_count": null,
   "metadata": {},
   "outputs": [],
   "source": []
  }
 ],
 "metadata": {
  "kernelspec": {
   "display_name": "Python 3",
   "language": "python",
   "name": "python3"
  },
  "language_info": {
   "codemirror_mode": {
    "name": "ipython",
    "version": 3
   },
   "file_extension": ".py",
   "mimetype": "text/x-python",
   "name": "python",
   "nbconvert_exporter": "python",
   "pygments_lexer": "ipython3",
   "version": "3.8.5"
  }
 },
 "nbformat": 4,
 "nbformat_minor": 4
}
