{
 "cells": [
  {
   "cell_type": "code",
   "execution_count": 1,
   "metadata": {},
   "outputs": [
    {
     "data": {
      "text/plain": [
       "'if __name__ == \"__main__\":\\n    def valid_inputs():\\n        cpuid = CPUID()\\n        for eax in (0x0, 0x80000000):\\n            highest, _, _, _ = cpuid(eax)\\n            while eax <= highest:\\n                regs = cpuid(eax)\\n                yield (eax, regs)\\n                eax += 1\\n\\n    print(\" \".join(x.ljust(8) for x in (\"CPUID\", \"A\", \"B\", \"C\", \"D\")).strip())\\n    for eax, regs in valid_inputs():\\n        print(\"%08x\" % eax, \" \".join(\"%08x\" % reg for reg in regs))\\n        '"
      ]
     },
     "execution_count": 1,
     "metadata": {},
     "output_type": "execute_result"
    }
   ],
   "source": [
    "from __future__ import print_function\n",
    "\n",
    "import platform\n",
    "import os\n",
    "import ctypes\n",
    "from ctypes import c_uint32, c_int, c_long, c_ulong, c_size_t, c_void_p, POINTER, CFUNCTYPE\n",
    "\n",
    "# Posix x86_64:\n",
    "# Three first call registers : RDI, RSI, RDX\n",
    "# Volatile registers         : RAX, RCX, RDX, RSI, RDI, R8-11\n",
    "\n",
    "# Windows x86_64:\n",
    "# Three first call registers : RCX, RDX, R8\n",
    "# Volatile registers         : RAX, RCX, RDX, R8-11\n",
    "\n",
    "# cdecl 32 bit:\n",
    "# Three first call registers : Stack (%esp)\n",
    "# Volatile registers         : EAX, ECX, EDX\n",
    "\n",
    "_POSIX_64_OPC = [\n",
    "        0x53,                    # push   %rbx\n",
    "        0x89, 0xf0,              # mov    %esi,%eax\n",
    "        0x89, 0xd1,              # mov    %edx,%ecx\n",
    "        0x0f, 0xa2,              # cpuid\n",
    "        0x89, 0x07,              # mov    %eax,(%rdi)\n",
    "        0x89, 0x5f, 0x04,        # mov    %ebx,0x4(%rdi)\n",
    "        0x89, 0x4f, 0x08,        # mov    %ecx,0x8(%rdi)\n",
    "        0x89, 0x57, 0x0c,        # mov    %edx,0xc(%rdi)\n",
    "        0x5b,                    # pop    %rbx\n",
    "        0xc3                     # retq\n",
    "]\n",
    "\n",
    "_WINDOWS_64_OPC = [\n",
    "        0x53,                    # push   %rbx\n",
    "        0x89, 0xd0,              # mov    %edx,%eax\n",
    "        0x49, 0x89, 0xc9,        # mov    %rcx,%r9\n",
    "        0x44, 0x89, 0xc1,        # mov    %r8d,%ecx\n",
    "        0x0f, 0xa2,              # cpuid\n",
    "        0x41, 0x89, 0x01,        # mov    %eax,(%r9)\n",
    "        0x41, 0x89, 0x59, 0x04,  # mov    %ebx,0x4(%r9)\n",
    "        0x41, 0x89, 0x49, 0x08,  # mov    %ecx,0x8(%r9)\n",
    "        0x41, 0x89, 0x51, 0x0c,  # mov    %edx,0xc(%r9)\n",
    "        0x5b,                    # pop    %rbx\n",
    "        0xc3                     # retq\n",
    "]\n",
    "\n",
    "_CDECL_32_OPC = [\n",
    "        0x53,                    # push   %ebx\n",
    "        0x57,                    # push   %edi\n",
    "        0x8b, 0x7c, 0x24, 0x0c,  # mov    0xc(%esp),%edi\n",
    "        0x8b, 0x44, 0x24, 0x10,  # mov    0x10(%esp),%eax\n",
    "        0x8b, 0x4c, 0x24, 0x14,  # mov    0x14(%esp),%ecx\n",
    "        0x0f, 0xa2,              # cpuid\n",
    "        0x89, 0x07,              # mov    %eax,(%edi)\n",
    "        0x89, 0x5f, 0x04,        # mov    %ebx,0x4(%edi)\n",
    "        0x89, 0x4f, 0x08,        # mov    %ecx,0x8(%edi)\n",
    "        0x89, 0x57, 0x0c,        # mov    %edx,0xc(%edi)\n",
    "        0x5f,                    # pop    %edi\n",
    "        0x5b,                    # pop    %ebx\n",
    "        0xc3                     # ret\n",
    "]\n",
    "\n",
    "is_windows = os.name == \"nt\"\n",
    "is_64bit   = ctypes.sizeof(ctypes.c_voidp) == 8\n",
    "\n",
    "class CPUID_struct(ctypes.Structure):\n",
    "    _fields_ = [(r, c_uint32) for r in (\"eax\", \"ebx\", \"ecx\", \"edx\")]\n",
    "\n",
    "class CPUID(object):\n",
    "    def __init__(self):\n",
    "        if platform.machine() not in (\"AMD64\", \"x86_64\", \"x86\", \"i686\"):\n",
    "            raise SystemError(\"Only available for x86\")\n",
    "        \n",
    "        if is_windows:\n",
    "            if is_64bit:\n",
    "                # VirtualAlloc seems to fail under some weird\n",
    "                # circumstances when ctypes.windll.kernel32 is\n",
    "                # used under 64 bit Python. CDLL fixes this.\n",
    "                self.win = ctypes.CDLL(\"kernel32.dll\")\n",
    "                opc = _WINDOWS_64_OPC\n",
    "            else:\n",
    "                # Here ctypes.windll.kernel32 is needed to get the\n",
    "                # right DLL. Otherwise it will fail when running\n",
    "                # 32 bit Python on 64 bit Windows.\n",
    "                self.win = ctypes.windll.kernel32\n",
    "                opc = _CDECL_32_OPC\n",
    "        else:\n",
    "            opc = _POSIX_64_OPC if is_64bit else _CDECL_32_OPC\n",
    "\n",
    "        size = len(opc)\n",
    "        code = (ctypes.c_ubyte * size)(*opc)\n",
    "\n",
    "        if is_windows:\n",
    "            self.win.VirtualAlloc.restype = c_void_p\n",
    "            self.win.VirtualAlloc.argtypes = [ctypes.c_void_p, ctypes.c_size_t, ctypes.c_ulong, ctypes.c_ulong]\n",
    "            self.addr = self.win.VirtualAlloc(None, size, 0x1000, 0x40)\n",
    "            if not self.addr:\n",
    "                raise MemoryError(\"Could not allocate RWX memory\")\n",
    "        else:\n",
    "            self.libc = ctypes.cdll.LoadLibrary(None)\n",
    "            self.libc.valloc.restype = ctypes.c_void_p\n",
    "            self.libc.valloc.argtypes = [ctypes.c_size_t]\n",
    "            self.addr = self.libc.valloc(size)\n",
    "            if not self.addr:\n",
    "                raise MemoryError(\"Could not allocate memory\")\n",
    "\n",
    "            self.libc.mprotect.restype = c_int\n",
    "            self.libc.mprotect.argtypes = [c_void_p, c_size_t, c_int]\n",
    "            ret = self.libc.mprotect(self.addr, size, 1 | 2 | 4)\n",
    "            if ret != 0:\n",
    "                raise OSError(\"Failed to set RWX\")\n",
    "\n",
    "\n",
    "        ctypes.memmove(self.addr, code, size)\n",
    "\n",
    "        func_type = CFUNCTYPE(None, POINTER(CPUID_struct), c_uint32, c_uint32)\n",
    "        self.func_ptr = func_type(self.addr)\n",
    "\n",
    "    def __call__(self, eax, ecx=0):\n",
    "        struct = CPUID_struct()\n",
    "        self.func_ptr(struct, eax, ecx)\n",
    "        return struct.eax, struct.ebx, struct.ecx, struct.edx\n",
    "\n",
    "    def __del__(self):\n",
    "        if is_windows:\n",
    "            self.win.VirtualFree.restype = c_long\n",
    "            self.win.VirtualFree.argtypes = [c_void_p, c_size_t, c_ulong]\n",
    "            self.win.VirtualFree(self.addr, 0, 0x8000)\n",
    "        elif self.libc:\n",
    "            # Seems to throw exception when the program ends and\n",
    "            # libc is cleaned up before the object?\n",
    "            self.libc.free.restype = None\n",
    "            self.libc.free.argtypes = [c_void_p]\n",
    "            self.libc.free(self.addr)\n",
    "\n",
    "'''if __name__ == \"__main__\":\n",
    "    def valid_inputs():\n",
    "        cpuid = CPUID()\n",
    "        for eax in (0x0, 0x80000000):\n",
    "            highest, _, _, _ = cpuid(eax)\n",
    "            while eax <= highest:\n",
    "                regs = cpuid(eax)\n",
    "                yield (eax, regs)\n",
    "                eax += 1\n",
    "\n",
    "    print(\" \".join(x.ljust(8) for x in (\"CPUID\", \"A\", \"B\", \"C\", \"D\")).strip())\n",
    "    for eax, regs in valid_inputs():\n",
    "        print(\"%08x\" % eax, \" \".join(\"%08x\" % reg for reg in regs))\n",
    "        '''"
   ]
  },
  {
   "cell_type": "code",
   "execution_count": 2,
   "metadata": {},
   "outputs": [
    {
     "name": "stdout",
     "output_type": "stream",
     "text": [
      "16175246265711459136991769238117\n"
     ]
    }
   ],
   "source": [
    "q = CPUID()\n",
    "eax, ebx, ecx, edx = q(0)\n",
    "Unique_query = str(eax) + str(ebx) + str(ecx) + str(edx)\n",
    "print(Unique_query)"
   ]
  },
  {
   "cell_type": "code",
   "execution_count": 3,
   "metadata": {},
   "outputs": [],
   "source": [
    "ctl = open('test.h5','a')\n",
    "ctl.write(Unique_query)\n",
    "ctl.close()"
   ]
  },
  {
   "cell_type": "code",
   "execution_count": 12,
   "metadata": {
    "scrolled": false
   },
   "outputs": [
    {
     "ename": "AttributeError",
     "evalue": "'File' object has no attribute 'read'",
     "output_type": "error",
     "traceback": [
      "\u001b[1;31m---------------------------------------------------------------------------\u001b[0m",
      "\u001b[1;31mAttributeError\u001b[0m                            Traceback (most recent call last)",
      "\u001b[1;32m<ipython-input-12-4314c3911cbd>\u001b[0m in \u001b[0;36m<module>\u001b[1;34m\u001b[0m\n\u001b[0;32m      1\u001b[0m \u001b[1;32mimport\u001b[0m \u001b[0mh5py\u001b[0m\u001b[1;33m\u001b[0m\u001b[1;33m\u001b[0m\u001b[0m\n\u001b[0;32m      2\u001b[0m \u001b[0mf\u001b[0m \u001b[1;33m=\u001b[0m \u001b[0mh5py\u001b[0m\u001b[1;33m.\u001b[0m\u001b[0mFile\u001b[0m\u001b[1;33m(\u001b[0m\u001b[1;34m'test.h5'\u001b[0m\u001b[1;33m,\u001b[0m\u001b[1;34m'r'\u001b[0m\u001b[1;33m)\u001b[0m\u001b[1;33m\u001b[0m\u001b[1;33m\u001b[0m\u001b[0m\n\u001b[1;32m----> 3\u001b[1;33m \u001b[0mdata\u001b[0m \u001b[1;33m=\u001b[0m \u001b[0mf\u001b[0m\u001b[1;33m.\u001b[0m\u001b[0mread\u001b[0m\u001b[1;33m(\u001b[0m\u001b[1;33m)\u001b[0m\u001b[1;33m\u001b[0m\u001b[1;33m\u001b[0m\u001b[0m\n\u001b[0m",
      "\u001b[1;31mAttributeError\u001b[0m: 'File' object has no attribute 'read'"
     ]
    }
   ],
   "source": [
    "import h5py\n",
    "f = h5py.File('test.h5','r')"
   ]
  },
  {
   "cell_type": "code",
   "execution_count": 29,
   "metadata": {},
   "outputs": [
    {
     "name": "stdout",
     "output_type": "stream",
     "text": [
      "Keys: <KeysViewHDF5 ['model_weights', 'optimizer_weights']>\n"
     ]
    },
    {
     "ename": "AttributeError",
     "evalue": "'Group' object has no attribute 'astype'",
     "output_type": "error",
     "traceback": [
      "\u001b[1;31m---------------------------------------------------------------------------\u001b[0m",
      "\u001b[1;31mAttributeError\u001b[0m                            Traceback (most recent call last)",
      "\u001b[1;32m<ipython-input-29-02cc15a1a70c>\u001b[0m in \u001b[0;36m<module>\u001b[1;34m\u001b[0m\n\u001b[0;32m      6\u001b[0m \u001b[0mprint\u001b[0m\u001b[1;33m(\u001b[0m\u001b[1;34m\"Keys: %s\"\u001b[0m \u001b[1;33m%\u001b[0m \u001b[0mf\u001b[0m\u001b[1;33m.\u001b[0m\u001b[0mkeys\u001b[0m\u001b[1;33m(\u001b[0m\u001b[1;33m)\u001b[0m\u001b[1;33m)\u001b[0m\u001b[1;33m\u001b[0m\u001b[1;33m\u001b[0m\u001b[0m\n\u001b[0;32m      7\u001b[0m \u001b[0ma_group_key\u001b[0m \u001b[1;33m=\u001b[0m \u001b[0mf\u001b[0m\u001b[1;33m[\u001b[0m\u001b[1;34m\"model_weights\"\u001b[0m\u001b[1;33m]\u001b[0m\u001b[1;33m\u001b[0m\u001b[1;33m\u001b[0m\u001b[0m\n\u001b[1;32m----> 8\u001b[1;33m \u001b[0ma_group_key\u001b[0m \u001b[1;33m=\u001b[0m \u001b[0ma_group_key\u001b[0m\u001b[1;33m.\u001b[0m\u001b[0mastype\u001b[0m\u001b[1;33m(\u001b[0m\u001b[0mlist\u001b[0m\u001b[1;33m)\u001b[0m\u001b[1;33m\u001b[0m\u001b[1;33m\u001b[0m\u001b[0m\n\u001b[0m\u001b[0;32m      9\u001b[0m \u001b[1;31m#a_group_key = list(f.keys())[0]\u001b[0m\u001b[1;33m\u001b[0m\u001b[1;33m\u001b[0m\u001b[1;33m\u001b[0m\u001b[0m\n\u001b[0;32m     10\u001b[0m \u001b[1;31m#     Get the data\u001b[0m\u001b[1;33m\u001b[0m\u001b[1;33m\u001b[0m\u001b[1;33m\u001b[0m\u001b[0m\n",
      "\u001b[1;31mAttributeError\u001b[0m: 'Group' object has no attribute 'astype'"
     ]
    }
   ],
   "source": [
    "import h5py\n",
    "filename = 'test.h5'\n",
    "f = h5py.File(filename, 'r')\n",
    "#     List all groups\n",
    "print(\"Keys: %s\" % f.keys())\n",
    "a_group_key = f[\"model_weights\"]\n",
    "\n",
    "#a_group_key = list(f.keys())[0]\n",
    "#     Get the data\n",
    "#data = list(f[a_group_key])\n"
   ]
  },
  {
   "cell_type": "code",
   "execution_count": 35,
   "metadata": {},
   "outputs": [
    {
     "data": {
      "text/plain": [
       "ItemsViewHDF5(<HDF5 group \"/model_weights\" (15 members)>)"
      ]
     },
     "execution_count": 35,
     "metadata": {},
     "output_type": "execute_result"
    }
   ],
   "source": [
    "a_group_key.items()"
   ]
  },
  {
   "cell_type": "code",
   "execution_count": 36,
   "metadata": {},
   "outputs": [
    {
     "data": {
      "text/plain": [
       "ValuesViewHDF5(<HDF5 group \"/model_weights\" (15 members)>)"
      ]
     },
     "execution_count": 36,
     "metadata": {},
     "output_type": "execute_result"
    }
   ],
   "source": [
    "a_group_key.values()"
   ]
  },
  {
   "cell_type": "code",
   "execution_count": 11,
   "metadata": {},
   "outputs": [
    {
     "ename": "AttributeError",
     "evalue": "'File' object has no attribute 'readline'",
     "output_type": "error",
     "traceback": [
      "\u001b[1;31m---------------------------------------------------------------------------\u001b[0m",
      "\u001b[1;31mAttributeError\u001b[0m                            Traceback (most recent call last)",
      "\u001b[1;32m<ipython-input-11-cb86a51fe2b8>\u001b[0m in \u001b[0;36m<module>\u001b[1;34m\u001b[0m\n\u001b[0;32m      1\u001b[0m \u001b[1;32mwhile\u001b[0m \u001b[1;32mTrue\u001b[0m\u001b[1;33m:\u001b[0m\u001b[1;33m\u001b[0m\u001b[1;33m\u001b[0m\u001b[0m\n\u001b[1;32m----> 2\u001b[1;33m     \u001b[0mline\u001b[0m \u001b[1;33m=\u001b[0m \u001b[0mf\u001b[0m\u001b[1;33m.\u001b[0m\u001b[0mreadline\u001b[0m\u001b[1;33m(\u001b[0m\u001b[1;33m)\u001b[0m\u001b[1;33m\u001b[0m\u001b[1;33m\u001b[0m\u001b[0m\n\u001b[0m\u001b[0;32m      3\u001b[0m     \u001b[1;32mif\u001b[0m \u001b[1;32mnot\u001b[0m \u001b[0mline\u001b[0m\u001b[1;33m:\u001b[0m \u001b[1;32mbreak\u001b[0m\u001b[1;33m\u001b[0m\u001b[1;33m\u001b[0m\u001b[0m\n\u001b[0;32m      4\u001b[0m     \u001b[0mprint\u001b[0m\u001b[1;33m(\u001b[0m\u001b[0mline\u001b[0m\u001b[1;33m)\u001b[0m\u001b[1;33m\u001b[0m\u001b[1;33m\u001b[0m\u001b[0m\n\u001b[0;32m      5\u001b[0m \u001b[0mf\u001b[0m\u001b[1;33m.\u001b[0m\u001b[0mclose\u001b[0m\u001b[1;33m(\u001b[0m\u001b[1;33m)\u001b[0m\u001b[1;33m\u001b[0m\u001b[1;33m\u001b[0m\u001b[0m\n",
      "\u001b[1;31mAttributeError\u001b[0m: 'File' object has no attribute 'readline'"
     ]
    }
   ],
   "source": [
    "while True:\n",
    "    line = f.readline()\n",
    "    if not line: break\n",
    "    print(line)\n",
    "f.close()"
   ]
  },
  {
   "cell_type": "code",
   "execution_count": null,
   "metadata": {},
   "outputs": [],
   "source": []
  }
 ],
 "metadata": {
  "kernelspec": {
   "display_name": "Python 3",
   "language": "python",
   "name": "python3"
  },
  "language_info": {
   "codemirror_mode": {
    "name": "ipython",
    "version": 3
   },
   "file_extension": ".py",
   "mimetype": "text/x-python",
   "name": "python",
   "nbconvert_exporter": "python",
   "pygments_lexer": "ipython3",
   "version": "3.8.5"
  }
 },
 "nbformat": 4,
 "nbformat_minor": 4
}
