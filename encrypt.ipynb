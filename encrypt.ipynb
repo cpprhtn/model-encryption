{
 "cells": [
  {
   "cell_type": "code",
   "execution_count": 66,
   "metadata": {},
   "outputs": [],
   "source": [
    "import base64"
   ]
  },
  {
   "cell_type": "code",
   "execution_count": 67,
   "metadata": {},
   "outputs": [],
   "source": [
    "def read_binary(path):\n",
    "    files = open(path, 'rb')\n",
    "    data = files.read()\n",
    "    files.close()\n",
    "    return data\n",
    "\n",
    "def read_b64(path):\n",
    "    files = open(path, 'r')\n",
    "    data = files.read()\n",
    "    files.close()\n",
    "    return data"
   ]
  },
  {
   "cell_type": "code",
   "execution_count": 68,
   "metadata": {},
   "outputs": [],
   "source": [
    "def write_b64(path, data):\n",
    "    f = open(path, 'wb')\n",
    "    f.write(data)\n",
    "    f.close()\n",
    "    return 0\n",
    "\n",
    "def write_(path, data):\n",
    "    f = open(path, 'w')\n",
    "    f.write(data)\n",
    "    f.close()\n",
    "    return 0"
   ]
  },
  {
   "cell_type": "code",
   "execution_count": 69,
   "metadata": {},
   "outputs": [],
   "source": [
    "def b64_encoding(data):\n",
    "    data_base64 = base64.b64encode(data)\n",
    "    data_base64_str = data_base64.decode('ascii')\n",
    "    return data_base64_str\n",
    "\n",
    "def b64_decoding(data):\n",
    "    data_bytes = base64.b64decode(data)\n",
    "    return data_bytes"
   ]
  },
  {
   "cell_type": "code",
   "execution_count": 70,
   "metadata": {},
   "outputs": [],
   "source": [
    "data = read_binary('./exam.h5')"
   ]
  },
  {
   "cell_type": "code",
   "execution_count": 71,
   "metadata": {
    "scrolled": true
   },
   "outputs": [
    {
     "data": {
      "text/plain": [
       "19843504"
      ]
     },
     "execution_count": 71,
     "metadata": {},
     "output_type": "execute_result"
    }
   ],
   "source": [
    "len(data)"
   ]
  },
  {
   "cell_type": "code",
   "execution_count": 72,
   "metadata": {},
   "outputs": [],
   "source": [
    "Unique_query = \"16175246265711459136991769238117\""
   ]
  },
  {
   "cell_type": "code",
   "execution_count": 73,
   "metadata": {},
   "outputs": [
    {
     "data": {
      "text/plain": [
       "str"
      ]
     },
     "execution_count": 73,
     "metadata": {},
     "output_type": "execute_result"
    }
   ],
   "source": [
    "type(Unique_query)"
   ]
  },
  {
   "cell_type": "code",
   "execution_count": 74,
   "metadata": {},
   "outputs": [],
   "source": [
    "data = str(data)"
   ]
  },
  {
   "cell_type": "code",
   "execution_count": 77,
   "metadata": {},
   "outputs": [],
   "source": [
    "def Steganography(data):\n",
    "    for i in range(32):\n",
    "        cnt = 159 + 16*i\n",
    "        data = str(data)\n",
    "        data=data[:i] + Unique_query[i] + data[i+1:]\n",
    "        data = data.encode()\n",
    "        return data\n",
    "        #data[i] = Unique_query[i]"
   ]
  },
  {
   "cell_type": "markdown",
   "metadata": {},
   "source": [
    "## 실행코드"
   ]
  },
  {
   "cell_type": "code",
   "execution_count": 79,
   "metadata": {},
   "outputs": [
    {
     "name": "stdout",
     "output_type": "stream",
     "text": [
      "write file name: exam.h5\n",
      "작업할 번호 선택\n",
      "1.암호화\t2.복호화\n",
      "2\n",
      "복호화가 완료되었습니다.\n"
     ]
    }
   ],
   "source": [
    "path = str(input(\"write file name: \"))\n",
    "cnt = -1\n",
    "cnt = int(input(\"작업할 번호 선택\\n1.암호화\\t2.복호화\\n\"))\n",
    "if cnt == 1:\n",
    "    data = read_binary(path)\n",
    "    data = Steganography(data)\n",
    "    data_base64_str = b64_encoding(data)\n",
    "    err_cnt = write_(path, data_base64_str)\n",
    "    if err_cnt != 0:\n",
    "        print('파일을 저장할 수 없습니다.')\n",
    "    else:\n",
    "        print('암호화가 완료되었습니다.')\n",
    "        \n",
    "elif cnt == 2:\n",
    "    data = read_b64(path)\n",
    "    data_bytes = b64_decoding(data)\n",
    "    err_cnt = write_b64(path, data_bytes)\n",
    "    if err_cnt != 0:\n",
    "        print('파일을 저장할 수 없습니다.')\n",
    "    else:\n",
    "        print('복호화가 완료되었습니다.')\n",
    "        \n",
    "else:\n",
    "    print('올바른 번호가 없습니다. 작업을 종료합니다.')"
   ]
  },
  {
   "cell_type": "code",
   "execution_count": null,
   "metadata": {},
   "outputs": [],
   "source": []
  }
 ],
 "metadata": {
  "kernelspec": {
   "display_name": "Python 3",
   "language": "python",
   "name": "python3"
  },
  "language_info": {
   "codemirror_mode": {
    "name": "ipython",
    "version": 3
   },
   "file_extension": ".py",
   "mimetype": "text/x-python",
   "name": "python",
   "nbconvert_exporter": "python",
   "pygments_lexer": "ipython3",
   "version": "3.8.5"
  }
 },
 "nbformat": 4,
 "nbformat_minor": 4
}
