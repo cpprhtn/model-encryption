{
 "cells": [
  {
   "cell_type": "code",
   "execution_count": 1,
   "metadata": {},
   "outputs": [],
   "source": [
    "from cpuid_ import CPUID, CPUID_struct, set_"
   ]
  },
  {
   "cell_type": "code",
   "execution_count": 4,
   "metadata": {},
   "outputs": [
    {
     "name": "stdout",
     "output_type": "stream",
     "text": [
      "16175246265711459136991769238117\n"
     ]
    }
   ],
   "source": [
    "q = CPUID()\n",
    "Unique_query = q(0)\n",
    "print(Unique_query)"
   ]
  },
  {
   "cell_type": "code",
   "execution_count": 80,
   "metadata": {},
   "outputs": [],
   "source": [
    "import base64"
   ]
  },
  {
   "cell_type": "code",
   "execution_count": 81,
   "metadata": {},
   "outputs": [],
   "source": [
    "def read_binary(path):\n",
    "    files = open(path, 'rb')\n",
    "    data = files.read()\n",
    "    files.close()\n",
    "    return data\n",
    "\n",
    "def read_(path):\n",
    "    files = open(path, 'r')\n",
    "    data = files.read()\n",
    "    files.close()\n",
    "    return data"
   ]
  },
  {
   "cell_type": "code",
   "execution_count": 82,
   "metadata": {},
   "outputs": [],
   "source": [
    "def write_binary(path, data):\n",
    "    f = open(path, 'wb')\n",
    "    f.write(data)\n",
    "    f.close()\n",
    "    return 0\n",
    "\n",
    "def write_(path, data):\n",
    "    f = open(path, 'w')\n",
    "    f.write(data)\n",
    "    f.close()\n",
    "    return 0"
   ]
  },
  {
   "cell_type": "code",
   "execution_count": 83,
   "metadata": {},
   "outputs": [],
   "source": [
    "def b64_encoding(data):\n",
    "    data_base64 = base64.b64encode(data)\n",
    "    data_base64_str = data_base64.decode('ascii')\n",
    "    return data_base64_str\n",
    "\n",
    "def b64_decoding(data):\n",
    "    data_bytes = base64.b64decode(data)\n",
    "    return data_bytes"
   ]
  },
  {
   "cell_type": "code",
   "execution_count": 84,
   "metadata": {},
   "outputs": [],
   "source": [
    "Unique_query = \"16175246265711459136991769238117\""
   ]
  },
  {
   "cell_type": "markdown",
   "metadata": {},
   "source": [
    "bytes 상태에서 9만 \\t로 바뀜 // 나머지는 4자리"
   ]
  },
  {
   "cell_type": "code",
   "execution_count": 87,
   "metadata": {},
   "outputs": [
    {
     "name": "stdout",
     "output_type": "stream",
     "text": [
      "\\x01\\x06\\x01\\x07\\x05\\x02\\x04\\x06\\x02\\x06\\x05\\x07\\x01\\x01\\x04\\x05\\x08\\x01\\x03\\x06\\x08\\x08\\x01\\x07\\x06\\x08\\x02\\x03\\x08\\x01\\x01\\x07\n"
     ]
    },
    {
     "data": {
      "text/plain": [
       "128"
      ]
     },
     "execution_count": 87,
     "metadata": {},
     "output_type": "execute_result"
    }
   ],
   "source": [
    "b_query = bytes([1,6,1,7,5,2,4,6,2,6,5,7,1,1,4,5,8,1,3,6,8,8,1,7,6,8,2,3,8,1,1,7])\n",
    "b_query=str(b_query)\n",
    "b_query = b_query[2:-1]\n",
    "print(b_query)\n",
    "len(b_query)"
   ]
  },
  {
   "cell_type": "code",
   "execution_count": 88,
   "metadata": {},
   "outputs": [],
   "source": [
    "import binascii"
   ]
  },
  {
   "cell_type": "code",
   "execution_count": 94,
   "metadata": {},
   "outputs": [],
   "source": [
    "global b\n",
    "b = 0\n",
    "def Steganography(data):\n",
    "    data = binascii.b2a_hex(data)\n",
    "    data=str(data)\n",
    "    data = data[2:-1]\n",
    "    for i in range(16):\n",
    "        cnt = 350 + 16*2*i\n",
    "        global b\n",
    "        data=data[:cnt] + Unique_query[b:b+2] + data[cnt+2:]\n",
    "        b+=2\n",
    "    data = binascii.unhexlify(data)\n",
    "    return data\n",
    "        #data[i] = Unique_query[i]"
   ]
  },
  {
   "cell_type": "markdown",
   "metadata": {},
   "source": [
    "## 실행코드"
   ]
  },
  {
   "cell_type": "code",
   "execution_count": 103,
   "metadata": {
    "scrolled": true
   },
   "outputs": [
    {
     "name": "stdout",
     "output_type": "stream",
     "text": [
      "write file name: exam2.h5\n",
      "작업할 번호 선택\n",
      "1.암호화\t2.복호화\n",
      "2\n",
      "복호화가 완료되었습니다.\n"
     ]
    }
   ],
   "source": [
    "path = str(input(\"write file name: \"))\n",
    "cnt = -1\n",
    "b = 0\n",
    "cnt = int(input(\"작업할 번호 선택\\n1.암호화\\t2.복호화\\n\"))\n",
    "if cnt == 1:\n",
    "    data = read_binary(path)\n",
    "    data = Steganography(data)\n",
    "    data_base64_str = b64_encoding(data)\n",
    "    err_cnt = write_(path, data_base64_str)\n",
    "    if err_cnt != 0:\n",
    "        print('파일을 저장할 수 없습니다.')\n",
    "    else:\n",
    "        print('암호화가 완료되었습니다.')\n",
    "        \n",
    "elif cnt == 2:\n",
    "    data = read_(path)\n",
    "    data_bytes = b64_decoding(data)\n",
    "    err_cnt = write_binary(path, data_bytes)\n",
    "    if err_cnt != 0:\n",
    "        print('파일을 저장할 수 없습니다.')\n",
    "    else:\n",
    "        print('복호화가 완료되었습니다.')\n",
    "        \n",
    "else:\n",
    "    print('올바른 번호가 없습니다. 작업을 종료합니다.')"
   ]
  },
  {
   "cell_type": "code",
   "execution_count": 95,
   "metadata": {},
   "outputs": [
    {
     "data": {
      "text/plain": [
       "19843496"
      ]
     },
     "execution_count": 95,
     "metadata": {},
     "output_type": "execute_result"
    }
   ],
   "source": [
    "data = read_binary('exam3.h5')\n",
    "len(data)"
   ]
  },
  {
   "cell_type": "code",
   "execution_count": 96,
   "metadata": {},
   "outputs": [
    {
     "name": "stdout",
     "output_type": "stream",
     "text": [
      "<class 'str'>\n",
      "<class 'str'>\n",
      "<class 'str'>\n",
      "<class 'str'>\n",
      "<class 'str'>\n",
      "<class 'str'>\n",
      "<class 'str'>\n",
      "<class 'str'>\n",
      "<class 'str'>\n",
      "<class 'str'>\n",
      "<class 'str'>\n",
      "<class 'str'>\n",
      "<class 'str'>\n",
      "<class 'str'>\n",
      "<class 'str'>\n",
      "<class 'str'>\n"
     ]
    }
   ],
   "source": [
    "data = Steganography(data)"
   ]
  },
  {
   "cell_type": "code",
   "execution_count": 98,
   "metadata": {},
   "outputs": [],
   "source": [
    "data_base64_str = b64_encoding(data)\n",
    "#print(data_base64_str)\n",
    "err_cnt = write_('kkk.h5', data_base64_str)"
   ]
  },
  {
   "cell_type": "code",
   "execution_count": 15,
   "metadata": {},
   "outputs": [
    {
     "data": {
      "text/plain": [
       "0"
      ]
     },
     "execution_count": 15,
     "metadata": {},
     "output_type": "execute_result"
    }
   ],
   "source": [
    "write_binary('test2.h5', data)"
   ]
  },
  {
   "cell_type": "code",
   "execution_count": 30,
   "metadata": {},
   "outputs": [],
   "source": [
    "import binascii\n",
    "\n",
    "data = binascii.b2a_hex(data)"
   ]
  },
  {
   "cell_type": "code",
   "execution_count": 50,
   "metadata": {},
   "outputs": [],
   "source": [
    "#print(data)\n",
    "data=str(data)"
   ]
  },
  {
   "cell_type": "code",
   "execution_count": 53,
   "metadata": {},
   "outputs": [],
   "source": [
    "data = data[2:-1]"
   ]
  },
  {
   "cell_type": "code",
   "execution_count": 55,
   "metadata": {},
   "outputs": [
    {
     "data": {
      "text/plain": [
       "'8'"
      ]
     },
     "execution_count": 55,
     "metadata": {},
     "output_type": "execute_result"
    }
   ],
   "source": [
    "data[353]"
   ]
  },
  {
   "cell_type": "code",
   "execution_count": null,
   "metadata": {},
   "outputs": [],
   "source": [
    "data = binascii.unhexlify(data)"
   ]
  },
  {
   "cell_type": "code",
   "execution_count": 26,
   "metadata": {},
   "outputs": [
    {
     "name": "stdout",
     "output_type": "stream",
     "text": [
      "59521433\n"
     ]
    }
   ],
   "source": [
    "data = str(data)\n",
    "data = data[2:-1]\n",
    "print(len(data))\n",
    "b = 0\n",
    "data2 = Steganography(data)"
   ]
  },
  {
   "cell_type": "code",
   "execution_count": 151,
   "metadata": {},
   "outputs": [
    {
     "data": {
      "text/plain": [
       "59521433"
      ]
     },
     "execution_count": 151,
     "metadata": {},
     "output_type": "execute_result"
    }
   ],
   "source": [
    "len(data2)"
   ]
  },
  {
   "cell_type": "code",
   "execution_count": 27,
   "metadata": {},
   "outputs": [
    {
     "data": {
      "text/plain": [
       "0"
      ]
     },
     "execution_count": 27,
     "metadata": {},
     "output_type": "execute_result"
    }
   ],
   "source": [
    "write_binary('test3.h5', data2)"
   ]
  },
  {
   "cell_type": "code",
   "execution_count": null,
   "metadata": {},
   "outputs": [],
   "source": []
  }
 ],
 "metadata": {
  "kernelspec": {
   "display_name": "Python 3",
   "language": "python",
   "name": "python3"
  },
  "language_info": {
   "codemirror_mode": {
    "name": "ipython",
    "version": 3
   },
   "file_extension": ".py",
   "mimetype": "text/x-python",
   "name": "python",
   "nbconvert_exporter": "python",
   "pygments_lexer": "ipython3",
   "version": "3.8.5"
  }
 },
 "nbformat": 4,
 "nbformat_minor": 4
}
